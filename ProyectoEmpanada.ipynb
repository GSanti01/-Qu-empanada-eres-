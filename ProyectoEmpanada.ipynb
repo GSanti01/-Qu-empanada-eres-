{
  "nbformat": 4,
  "nbformat_minor": 0,
  "metadata": {
    "colab": {
      "provenance": []
    },
    "kernelspec": {
      "name": "python3",
      "display_name": "Python 3"
    },
    "language_info": {
      "name": "python"
    }
  },
  "cells": [
    {
      "cell_type": "code",
      "execution_count": 16,
      "metadata": {
        "colab": {
          "base_uri": "https://localhost:8080/"
        },
        "id": "biH0SQCFs-Wz",
        "outputId": "e64fc038-a262-4db2-85a7-71720d15a993"
      },
      "outputs": [
        {
          "output_type": "stream",
          "name": "stdout",
          "text": [
            "Requirement already satisfied: automata-lib==1.0.0.post4 in /usr/local/lib/python3.10/dist-packages (1.0.0.post4)\n"
          ]
        }
      ],
      "source": [
        "!pip install automata-lib==1.0.0.post4"
      ]
    },
    {
      "cell_type": "code",
      "source": [
        "from automata.fa.dfa import DFA\n",
        "#Automata finito determinista con sus transiciones\n",
        "empanada = DFA(\n",
        "    states={'q0', 'q1', 'q2', 'q3', 'q4', 'q5', 'q6', 'q7', 'q8', 'q9', 'q10',\n",
        "            'q11', 'q12', 'q13', 'q14', 'q15', 'q16', 'q17', 'q18', 'q19', 'q20',\n",
        "            'q21', 'q22', 'q23', 'q24', 'q25', 'q26', 'q27', 'q28', 'q29', 'q30'},\n",
        "    input_symbols={'s', 'n'},\n",
        "    transitions={\n",
        "        'q0': {'s': 'q1', 'n': 'q2'},\n",
        "        'q1': {'s': 'q3', 'n': 'q4'},\n",
        "        'q2': {'s': 'q5', 'n': 'q6'},\n",
        "        'q3': {'s': 'q7', 'n': 'q8'},\n",
        "        'q4': {'s': 'q9', 'n': 'q10'},\n",
        "        'q5': {'s': 'q11', 'n': 'q12'},\n",
        "        'q6': {'s': 'q13', 'n': 'q14'},\n",
        "        'q7': {'s': 'q15', 'n': 'q16'},\n",
        "        'q8': {'s': 'q17', 'n': 'q18'},\n",
        "        'q9': {'s': 'q19', 'n': 'q20'},\n",
        "        'q10': {'s': 'q21', 'n': 'q22'},\n",
        "        'q11': {'s': 'q23', 'n': 'q24'},\n",
        "        'q12': {'s': 'q25', 'n': 'q26'},\n",
        "        'q13': {'s': 'q27', 'n': 'q28'},\n",
        "        'q14': {'s': 'q29', 'n': 'q30'},\n",
        "        'q15': {'s': 'q15', 'n': 'q15'},\n",
        "        'q16': {'s': 'q16', 'n': 'q16'},\n",
        "        'q17': {'s': 'q17', 'n': 'q17'},\n",
        "        'q18': {'s': 'q18', 'n': 'q18'},\n",
        "        'q19': {'s': 'q19', 'n': 'q19'},\n",
        "        'q20': {'s': 'q20', 'n': 'q20'},\n",
        "        'q21': {'s': 'q21', 'n': 'q21'},\n",
        "        'q22': {'s': 'q22', 'n': 'q22'},\n",
        "        'q23': {'s': 'q23', 'n': 'q23'},\n",
        "        'q24': {'s': 'q24', 'n': 'q24'},\n",
        "        'q25': {'s': 'q25', 'n': 'q25'},\n",
        "        'q26': {'s': 'q26', 'n': 'q26'},\n",
        "        'q27': {'s': 'q27', 'n': 'q27'},\n",
        "        'q28': {'s': 'q28', 'n': 'q28'},\n",
        "        'q29': {'s': 'q29', 'n': 'q29'},\n",
        "        'q30': {'s': 'q30', 'n': 'q30'}\n",
        "    },\n",
        "    initial_state='q0',\n",
        "    final_states={'q15', 'q16', 'q17', 'q18', 'q19', 'q20', 'q21', 'q22', 'q23', 'q24', 'q25', 'q26', 'q27', 'q28', 'q29', 'q30'}\n",
        ")"
      ],
      "metadata": {
        "id": "2l3eMA_9tFZn"
      },
      "execution_count": 17,
      "outputs": []
    },
    {
      "cell_type": "code",
      "source": [
        "#Encuesta para el estudiante\n",
        "print(\"Encuesta:\")\n",
        "print(\"¿Encuentras que tu nivel de interés y motivación aumenta cuando enfrentas desafíos nuevos y cambiantes? \\\"s/n\\\"\")\n",
        "rta1 = str ( input ( ) )\n",
        "print(\"¿Te sientes más cómodo cuando tienes la libertad de elegir cómo abordar un nuevo tema de estudio? \\\"s/n\\\"\")\n",
        "rta2 = str ( input ( ) )\n",
        "print(\"¿Sueles disfrutar más de las actividades académicas cuando trabajas en equipo en lugar de individualmente? \\\"s/n\\\"\")\n",
        "rta3 = str ( input ( ) )\n",
        "print(\"¿Te consideras alguien que se adapta fácilmente a nuevas circunstancias y enfoques de aprendizaje? \\\"s/n\\\"\")\n",
        "rta4 = str ( input ( ) )\n",
        "\n",
        "palabra = rta1 + rta2 + rta3 + rta4"
      ],
      "metadata": {
        "id": "oFaKszbhjfMk",
        "colab": {
          "base_uri": "https://localhost:8080/"
        },
        "outputId": "ccd6a192-33bd-49fa-bca7-7fcc845a5482"
      },
      "execution_count": 18,
      "outputs": [
        {
          "name": "stdout",
          "output_type": "stream",
          "text": [
            "Encuesta:\n",
            "¿Encuentras que tu nivel de interés y motivación aumenta cuando enfrentas desafíos nuevos y cambiantes? \"s/n\"\n",
            "n\n",
            "¿Te sientes más cómodo cuando tienes la libertad de elegir cómo abordar un nuevo tema de estudio? \"s/n\"\n",
            "s\n",
            "¿Sueles disfrutar más de las actividades académicas cuando trabajas en equipo en lugar de individualmente? \"s/n\"\n",
            "s\n",
            "¿Te consideras alguien que se adapta fácilmente a nuevas circunstancias y enfoques de aprendizaje? \"s/n\"\n",
            "n\n"
          ]
        }
      ]
    },
    {
      "cell_type": "code",
      "source": [
        "print(\"\")\n",
        "print(\"Los estados visitados fueron los siguientes:\")\n",
        "print(list(empanada.validate_input(palabra, step=True)))\n",
        "print(\"\")\n",
        "#Ahora se mira cual fue el estado final y así decir que tipo de empanada eres :D\n",
        "if (empanada.validate_input(palabra) == 'q15'):\n",
        "    print(\"Eres una carimañola de pollo: \")\n",
        "    print(\"La carimañola aprende fundamentalmente a través de la vista, por lo que todos ellos prefieren leer a escuchar una clase y son fans de los gráficos tales como mapas conceptuales o mapas mentales.\")\n",
        "if (empanada.validate_input(palabra) == 'q16'):\n",
        "    print(\"Eres la empanada pollo queso: \")\n",
        "    print(\"La empanada pollo queso se corresponde con la enseñanza tradicional, donde los educandos son individuos pasivos, la cual fue la utilizada durante mucho tiempo y todavía se aplica en muchas instituciones.\")\n",
        "    print(\"Generalmente lo hacen para aprobar un examen, lo cual se traduce como que no están interesados en aprender sino en lograr la nota y pasar la asignatura.\")\n",
        "if (empanada.validate_input(palabra) == 'q17'):\n",
        "    print(\"Eres la empanada arroz con carne: \")\n",
        "    print(\"La empanada de arroz con carne está dentro de la clasificación de los mencionados psicólogos Bandler y Grindler y son los que aprenden escuchando.\")\n",
        "    print(\"Por lo cual captan mucho mejor los conocimientos asistiendo a una clase que leyendo y tienen dificultad para estudiar por su cuenta.\")\n",
        "if (empanada.validate_input(palabra) == 'q18'):\n",
        "    print(\"Eres la empanada de mixta:\")\n",
        "    print(\"La empanada mixta se caracteriza por su capacidad para el pensamiento abstracto y su habilidad para resolver problemas numéricos; tiene facilidad para entender las fórmulas y aplicarlas a casos concretos, así como para elaborar hipótesis y realizar su comprobación.\")\n",
        "if (empanada.validate_input(palabra) == 'q19'):\n",
        "    print(\"Eres la empanada de chicharron: \")\n",
        "    print(\"La empanada de chicharron tienen habilidades resaltantes en cuanto a la lectura y la interpretación de la misma, detectando cuáles son las ideas principales  y secundarias con facilidad; poseen un vocabulario más rico que el promedio de los estudiantes y menos fallas en ortografía y gramática.\")\n",
        "if (empanada.validate_input(palabra) == 'q20'):\n",
        "    print(\"Eres la empanada de solo queso: \")\n",
        "    print(\"Prefieres estar estudiando virtualmente ya que son ante todo disciplinados y comprometidos, al tiempo que poseen la capacidad de automotivarse y autogestionar su aprendizaje convirtiéndose en los protagonistas del proceso educativo.\")\n",
        "if (empanada.validate_input(palabra) == 'q21'):\n",
        "    print(\"Eres la empanada valluna: \")\n",
        "    print(\"Esta empanada se diferencia de los demás, especialmente, por la necesidad de demostrar su superioridad académica, por lo cual participa activamente en clase y trata de ser el centro de atención, opacando a los demás.\")\n",
        "if (empanada.validate_input(palabra) == 'q22'):\n",
        "    print(\"Eres la empanada Boyacense: \")\n",
        "    print(\"Esta empanada se caracteriza por su capacidad para desenvolverse en materias concretas, pero es imaginativo y las interpreta desde diferentes perspectivas, por lo que es capaz de dar muchas respuestas ante determinada situación. \")\n",
        "if (empanada.validate_input(palabra) == 'q23'):\n",
        "    print(\"Eres la empanada de maduro: \")\n",
        "    print(\"Estas empanadas tienen muchas habilidades para la elaboración de gráficos y se les da muy bien las carreras de aplicación práctica, como la Ingeniería, la Estadística  o la Informática. \")\n",
        "if (empanada.validate_input(palabra) == 'q24'):\n",
        "    print(\"Eres la empanada de maiz: \")\n",
        "    print(\"Las empanadas de maiz son individuos reflexivos y su forma de razonar es preponderantemente inductiva, es decir van de lo particular a lo general, por lo cual son los científicos por excelencia y los tipos de trabajos para estudiantes asimiladores, idealmente, son las investigaciones.\")\n",
        "if (empanada.validate_input(palabra) == 'q25'):\n",
        "    print(\"Eres la empanada de Atún: \")\n",
        "    print(\"En general no es muy analítico aunque sí tiene gran facilidad para percatarse de detalles que a cualquiera se le pasarían por alto. Se le da el nombre de empanada de atún por su gran capacidad de adaptarse a las situaciones nuevas.\")\n",
        "if (empanada.validate_input(palabra) == 'q26'):\n",
        "    print(\"Eres la empanada de papa con guiso:\")\n",
        "    print(\"La empanada de papa con guiso es sobre todo dependiente de los demás y carece de autonomía para autogestionar su propio aprendizaje. Tiende a asociarse con equipos de estudiantes donde los demás hagan el trabajo,  beneficiándose de la calificación colectiva, y suele buscar apoyo de algún compañero para realizar las asignaciones individuales.\")\n",
        "if (empanada.validate_input(palabra) == 'q27'):\n",
        "    print(\"Eres la empanada hawaiana: \")\n",
        "    print(\"Estas empanadas son el bajo rendimiento, el distanciamiento social y la casi nula intervención o participación en las discusiones, a menos que el profesor lo convoque a través de alguna pregunta directa. \")\n",
        "if (empanada.validate_input(palabra) == 'q28'):\n",
        "    print(\"Eres la empanada de lechona: \")\n",
        "    print(\"Esta empanada necesita estructurar las ideas y los conceptos cuanto antes para memorizarlos mientras lo hace. Es el alumno que hace sus propios esquemas y resúmenes durante la clase.\")\n",
        "if (empanada.validate_input(palabra) == 'q29'):\n",
        "    print(\"Eres la empanada de champiñones: \")\n",
        "    print(\"Eres el de bajo rendimiento, el distanciamiento social y la casi nula intervención o participación en las discusiones, a menos que el profesor te convoque a través de alguna pregunta directa. \")\n",
        "if (empanada.validate_input(palabra) == 'q30'):\n",
        "    print(\"Eres la empanada especial: \")\n",
        "    print(\"Es de esas empanadas que para un examen estudiará siempre a última hora. Atención, que la vagancia no está reñida con la inteligencia. Puede que saque buenas notas.\")"
      ],
      "metadata": {
        "id": "tx7_fdfWjXmd",
        "colab": {
          "base_uri": "https://localhost:8080/"
        },
        "outputId": "be1780f8-80bf-4b08-f439-290b5c9dcdf8"
      },
      "execution_count": 19,
      "outputs": [
        {
          "output_type": "stream",
          "name": "stdout",
          "text": [
            "\n",
            "Los estados visitados fueron los siguientes:\n",
            "['q0', 'q2', 'q5', 'q11', 'q24']\n",
            "\n",
            "Eres la empanada de maiz: \n",
            "Las empanadas de maiz son individuos reflexivos y su forma de razonar es preponderantemente inductiva, es decir van de lo particular a lo general, por lo cual son los científicos por excelencia y los tipos de trabajos para estudiantes asimiladores, idealmente, son las investigaciones.\n"
          ]
        }
      ]
    }
  ]
}